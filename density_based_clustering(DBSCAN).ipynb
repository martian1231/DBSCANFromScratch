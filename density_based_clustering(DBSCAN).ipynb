{
  "nbformat": 4,
  "nbformat_minor": 0,
  "metadata": {
    "kernelspec": {
      "display_name": "Python 3",
      "language": "python",
      "name": "python3"
    },
    "language_info": {
      "codemirror_mode": {
        "name": "ipython",
        "version": 3
      },
      "file_extension": ".py",
      "mimetype": "text/x-python",
      "name": "python",
      "nbconvert_exporter": "python",
      "pygments_lexer": "ipython3",
      "version": "3.8.5"
    },
    "colab": {
      "name": "DensityClustering (DBSCAN).ipynb",
      "provenance": [],
      "collapsed_sections": []
    }
  },
  "cells": [
    {
      "cell_type": "code",
      "metadata": {
        "ExecuteTime": {
          "end_time": "2020-05-08T20:57:54.836539Z",
          "start_time": "2020-05-08T20:57:53.339498Z"
        },
        "id": "pFdxYrqA7n4j",
        "colab": {
          "base_uri": "https://localhost:8080/"
        },
        "outputId": "2d2c79ba-4693-45f6-c646-500d33e4bb11"
      },
      "source": [
        "from sklearn.datasets.samples_generator import make_blobs, make_circles, make_moons\n",
        "import numpy as np\n",
        "import pandas as pd\n",
        "import seaborn as sns\n",
        "from numpy.random import uniform\n",
        "from copy import deepcopy as copy\n",
        "import matplotlib.pyplot as plt\n",
        "from sklearn.neighbors import KDTree"
      ],
      "execution_count": 1,
      "outputs": [
        {
          "output_type": "stream",
          "text": [
            "/usr/local/lib/python3.7/dist-packages/sklearn/utils/deprecation.py:144: FutureWarning: The sklearn.datasets.samples_generator module is  deprecated in version 0.22 and will be removed in version 0.24. The corresponding classes / functions should instead be imported from sklearn.datasets. Anything that cannot be imported from sklearn.datasets is now part of the private API.\n",
            "  warnings.warn(message, FutureWarning)\n"
          ],
          "name": "stderr"
        }
      ]
    },
    {
      "cell_type": "code",
      "metadata": {
        "ExecuteTime": {
          "end_time": "2020-05-08T20:57:55.741638Z",
          "start_time": "2020-05-08T20:57:55.735655Z"
        },
        "id": "xkaoyMbt7n4m"
      },
      "source": [
        "# make toy dataset\n",
        "X, y = make_moons(n_samples= 400, noise=.1, random_state= 42)\n",
        "\n",
        "# convert raw data to pandas dataframe\n",
        "df = pd.DataFrame(X, columns= [\"feature_1\", \"feature_2\"])\n",
        "\n",
        "# get data dimensions\n",
        "n, m = df.shape"
      ],
      "execution_count": 2,
      "outputs": []
    },
    {
      "cell_type": "code",
      "metadata": {
        "ExecuteTime": {
          "end_time": "2020-05-08T20:57:56.831561Z",
          "start_time": "2020-05-08T20:57:56.799644Z"
        },
        "colab": {
          "base_uri": "https://localhost:8080/",
          "height": 337
        },
        "id": "wDP8clSj7n4n",
        "outputId": "1f57d4ae-a25b-492b-d17c-9c1b80123538"
      },
      "source": [
        "# ploting data\n",
        "sns.scatterplot(X[:, 0], X[:, 1])"
      ],
      "execution_count": 3,
      "outputs": [
        {
          "output_type": "stream",
          "text": [
            "/usr/local/lib/python3.7/dist-packages/seaborn/_decorators.py:43: FutureWarning: Pass the following variables as keyword args: x, y. From version 0.12, the only valid positional argument will be `data`, and passing other arguments without an explicit keyword will result in an error or misinterpretation.\n",
            "  FutureWarning\n"
          ],
          "name": "stderr"
        },
        {
          "output_type": "execute_result",
          "data": {
            "text/plain": [
              "<matplotlib.axes._subplots.AxesSubplot at 0x7ff67608a9d0>"
            ]
          },
          "metadata": {
            "tags": []
          },
          "execution_count": 3
        },
        {
          "output_type": "display_data",
          "data": {
            "image/png": "[encoded data removed]",
            "text/plain": [
              "<Figure size 432x288 with 1 Axes>"
            ]
          },
          "metadata": {
            "tags": [],
            "needs_background": "light"
          }
        }
      ]
    },
    {
      "cell_type": "code",
      "metadata": {
        "colab": {
          "base_uri": "https://localhost:8080/",
          "height": 206
        },
        "id": "F3wtcEM27n4o",
        "outputId": "081e583e-e599-43e4-927e-59d4da5523e1"
      },
      "source": [
        "df.head()"
      ],
      "execution_count": 4,
      "outputs": [
        {
          "output_type": "execute_result",
          "data": {
            "text/html": [
              "<div>\n",
              "<style scoped>\n",
              "    .dataframe tbody tr th:only-of-type {\n",
              "        vertical-align: middle;\n",
              "    }\n",
              "\n",
              "    .dataframe tbody tr th {\n",
              "        vertical-align: top;\n",
              "    }\n",
              "\n",
              "    .dataframe thead th {\n",
              "        text-align: right;\n",
              "    }\n",
              "</style>\n",
              "<table border=\"1\" class=\"dataframe\">\n",
              "  <thead>\n",
              "    <tr style=\"text-align: right;\">\n",
              "      <th></th>\n",
              "      <th>feature_1</th>\n",
              "      <th>feature_2</th>\n",
              "    </tr>\n",
              "  </thead>\n",
              "  <tbody>\n",
              "    <tr>\n",
              "      <th>0</th>\n",
              "      <td>-0.044052</td>\n",
              "      <td>0.436078</td>\n",
              "    </tr>\n",
              "    <tr>\n",
              "      <th>1</th>\n",
              "      <td>0.692230</td>\n",
              "      <td>-0.401119</td>\n",
              "    </tr>\n",
              "    <tr>\n",
              "      <th>2</th>\n",
              "      <td>0.828198</td>\n",
              "      <td>0.541522</td>\n",
              "    </tr>\n",
              "    <tr>\n",
              "      <th>3</th>\n",
              "      <td>0.178812</td>\n",
              "      <td>0.268862</td>\n",
              "    </tr>\n",
              "    <tr>\n",
              "      <th>4</th>\n",
              "      <td>0.091715</td>\n",
              "      <td>0.946118</td>\n",
              "    </tr>\n",
              "  </tbody>\n",
              "</table>\n",
              "</div>"
            ],
            "text/plain": [
              "   feature_1  feature_2\n",
              "0  -0.044052   0.436078\n",
              "1   0.692230  -0.401119\n",
              "2   0.828198   0.541522\n",
              "3   0.178812   0.268862\n",
              "4   0.091715   0.946118"
            ]
          },
          "metadata": {
            "tags": []
          },
          "execution_count": 4
        }
      ]
    },
    {
      "cell_type": "code",
      "metadata": {
        "ExecuteTime": {
          "end_time": "2020-05-08T20:58:04.261159Z",
          "start_time": "2020-05-08T20:58:04.248188Z"
        },
        "id": "33xhvIYy7n4p"
      },
      "source": [
        "def mark_border(x, df, tree, esp):\n",
        "    # get the index of neighbors\n",
        "    neighbor_index_list = tree.query_radius(np.array(x.values).reshape(-1, 2), esp)\n",
        "    \n",
        "    neighbor_df = df.iloc[neighbor_index_list[0]]\n",
        "    \n",
        "    #check if core point exist in nearest neighbors\n",
        "    contains_core_point = neighbor_df.is_core.str.contains('Y').any()\n",
        "    if contains_core_point:\n",
        "        return \"Y\"\n",
        "    return \"N\"\n",
        "\n",
        "def DBSCAN(df, eps, min_point):\n",
        "    \n",
        "    # kd tree for fast neighbor search\n",
        "    points = df.values\n",
        "    feature_columns = df.columns\n",
        "    tree = KDTree(points)\n",
        "    \n",
        "    # create visited coulmn\n",
        "    df[\"visited\"] = -1\n",
        "    \n",
        "    # add cluster column\n",
        "    df[\"cluster\"] = -1\n",
        "    \n",
        "    # add border column\n",
        "    df[\"is_border\"] = \"N\"\n",
        "    \n",
        "    # mark core point\n",
        "    df[\"is_core\"] = tree.query_radius(df[feature_columns], eps, count_only=True)\n",
        "    df[\"is_core\"] = df[\"is_core\"].apply(lambda x: \"Y\" if x >= min_point else \"N\")\n",
        "    \n",
        "    # mark border point\n",
        "    df[\"is_border\"] = df[df.is_core == \"N\"][[\"feature_1\",\\\n",
        "                                             \"feature_2\"]].apply(mark_border, df= df, tree= tree, esp= eps, axis= 1)\n",
        "    \n",
        "    # fill nan values\n",
        "    df.is_border.fillna(\"N\", inplace= True)\n",
        "    \n",
        "    \n",
        "    sample_core_point_list = []\n",
        "    c = 0\n",
        "    while 1:\n",
        "        \n",
        "        # get the list of unvisited core points\n",
        "        core_df = df[(df.is_core == \"Y\") & (df.visited == -1)][feature_columns]\n",
        "        \n",
        "        # base case (return once all the core points are visited)\n",
        "        if core_df.shape[0] == 0:\n",
        "            break\n",
        "        \n",
        "        # select a single core point at random fron unvisited list\n",
        "        sample_core_point = core_df.sample(random_state= None)\n",
        "        \n",
        "        # get the index of sampled core point\n",
        "        core_idx = sample_core_point.index.values[0]\n",
        "        \n",
        "        # append the selected core point to the core point list\n",
        "        sample_core_point_list.append(sample_core_point)\n",
        "        \n",
        "        # visit every density connected point and assign it to a cluster\n",
        "        q = [core_idx]\n",
        "\n",
        "        # do until we visit every density connected point\n",
        "        while q:\n",
        "            # get the current core point index\n",
        "            core_p_idx = q.pop(0)\n",
        "            \n",
        "            # get the vector of current core point\n",
        "            core_p = df[feature_columns].iloc[core_p_idx].values.reshape(-1, 2)\n",
        "            \n",
        "            # check if core point is unvisited\n",
        "            if df.iloc[core_p_idx].visited == -1:\n",
        "                \n",
        "                # get the indicies of points close to current core point within given eps\n",
        "                neighbor_idx = tree.query_radius(core_p, eps)\n",
        "                \n",
        "                '''\n",
        "                'query_radius' returns list with numpy array as element [array([138, 187], dtype=int64)]\n",
        "                '''\n",
        "                \n",
        "                # get the neighboring point as a dataframe\n",
        "                core_neighbor_points = df.iloc[neighbor_idx[0]]\n",
        "\n",
        "                # select only core point neighbor\n",
        "                core_neighbor_points = core_neighbor_points[core_neighbor_points.is_core == \"Y\"]\n",
        "\n",
        "                # select only feature columns (igore columns [cluster, visited])\n",
        "                core_neighbor_points = core_neighbor_points[feature_columns]\n",
        "\n",
        "                # add it to the queue, to visit it later\n",
        "                q.extend(core_neighbor_points.index)\n",
        "                \n",
        "                # add current core point to the cluster\n",
        "                df.loc[core_p_idx, \"cluster\"] = c\n",
        "                # mark current core point to the cluster\n",
        "                df.loc[core_p_idx, \"visited\"] = 1\n",
        "        c += 1\n",
        "    return df, sample_core_point_list, tree"
      ],
      "execution_count": 5,
      "outputs": []
    },
    {
      "cell_type": "code",
      "metadata": {
        "ExecuteTime": {
          "end_time": "2020-05-08T20:58:09.125483Z",
          "start_time": "2020-05-08T20:58:05.552461Z"
        },
        "scrolled": false,
        "id": "rHW6yiJf7n4q"
      },
      "source": [
        "df_tmp, core_point, tree  = DBSCAN(df.copy(deep= True), 0.15, 6)"
      ],
      "execution_count": 6,
      "outputs": []
    },
    {
      "cell_type": "code",
      "metadata": {
        "ExecuteTime": {
          "end_time": "2020-05-08T20:58:09.133419Z",
          "start_time": "2020-05-08T20:58:09.126436Z"
        },
        "colab": {
          "base_uri": "https://localhost:8080/"
        },
        "id": "UpHsBTGX7n4r",
        "outputId": "32ddf14c-4df7-4b6e-9136-f8aab41fd446"
      },
      "source": [
        "df_tmp.cluster.value_counts()"
      ],
      "execution_count": 7,
      "outputs": [
        {
          "output_type": "execute_result",
          "data": {
            "text/plain": [
              " 1    181\n",
              " 0    178\n",
              "-1     41\n",
              "Name: cluster, dtype: int64"
            ]
          },
          "metadata": {
            "tags": []
          },
          "execution_count": 7
        }
      ]
    },
    {
      "cell_type": "code",
      "metadata": {
        "ExecuteTime": {
          "end_time": "2020-05-08T20:58:53.117678Z",
          "start_time": "2020-05-08T20:58:53.104713Z"
        },
        "colab": {
          "base_uri": "https://localhost:8080/",
          "height": 206
        },
        "id": "T1wEdnLY7n4r",
        "outputId": "5006078e-5934-491e-d534-5493f739de3d"
      },
      "source": [
        "df_tmp.head()"
      ],
      "execution_count": 8,
      "outputs": [
        {
          "output_type": "execute_result",
          "data": {
            "text/html": [
              "<div>\n",
              "<style scoped>\n",
              "    .dataframe tbody tr th:only-of-type {\n",
              "        vertical-align: middle;\n",
              "    }\n",
              "\n",
              "    .dataframe tbody tr th {\n",
              "        vertical-align: top;\n",
              "    }\n",
              "\n",
              "    .dataframe thead th {\n",
              "        text-align: right;\n",
              "    }\n",
              "</style>\n",
              "<table border=\"1\" class=\"dataframe\">\n",
              "  <thead>\n",
              "    <tr style=\"text-align: right;\">\n",
              "      <th></th>\n",
              "      <th>feature_1</th>\n",
              "      <th>feature_2</th>\n",
              "      <th>visited</th>\n",
              "      <th>cluster</th>\n",
              "      <th>is_border</th>\n",
              "      <th>is_core</th>\n",
              "    </tr>\n",
              "  </thead>\n",
              "  <tbody>\n",
              "    <tr>\n",
              "      <th>0</th>\n",
              "      <td>-0.044052</td>\n",
              "      <td>0.436078</td>\n",
              "      <td>1</td>\n",
              "      <td>0</td>\n",
              "      <td>N</td>\n",
              "      <td>Y</td>\n",
              "    </tr>\n",
              "    <tr>\n",
              "      <th>1</th>\n",
              "      <td>0.692230</td>\n",
              "      <td>-0.401119</td>\n",
              "      <td>1</td>\n",
              "      <td>0</td>\n",
              "      <td>N</td>\n",
              "      <td>Y</td>\n",
              "    </tr>\n",
              "    <tr>\n",
              "      <th>2</th>\n",
              "      <td>0.828198</td>\n",
              "      <td>0.541522</td>\n",
              "      <td>1</td>\n",
              "      <td>1</td>\n",
              "      <td>N</td>\n",
              "      <td>Y</td>\n",
              "    </tr>\n",
              "    <tr>\n",
              "      <th>3</th>\n",
              "      <td>0.178812</td>\n",
              "      <td>0.268862</td>\n",
              "      <td>1</td>\n",
              "      <td>0</td>\n",
              "      <td>N</td>\n",
              "      <td>Y</td>\n",
              "    </tr>\n",
              "    <tr>\n",
              "      <th>4</th>\n",
              "      <td>0.091715</td>\n",
              "      <td>0.946118</td>\n",
              "      <td>1</td>\n",
              "      <td>1</td>\n",
              "      <td>N</td>\n",
              "      <td>Y</td>\n",
              "    </tr>\n",
              "  </tbody>\n",
              "</table>\n",
              "</div>"
            ],
            "text/plain": [
              "   feature_1  feature_2  visited  cluster is_border is_core\n",
              "0  -0.044052   0.436078        1        0         N       Y\n",
              "1   0.692230  -0.401119        1        0         N       Y\n",
              "2   0.828198   0.541522        1        1         N       Y\n",
              "3   0.178812   0.268862        1        0         N       Y\n",
              "4   0.091715   0.946118        1        1         N       Y"
            ]
          },
          "metadata": {
            "tags": []
          },
          "execution_count": 8
        }
      ]
    },
    {
      "cell_type": "code",
      "metadata": {
        "colab": {
          "base_uri": "https://localhost:8080/"
        },
        "id": "5UQ3iXHt7n4s",
        "outputId": "e836fd55-6b32-44ad-9a71-e6b3bb4508d7"
      },
      "source": [
        "df_tmp.is_core.value_counts()"
      ],
      "execution_count": 9,
      "outputs": [
        {
          "output_type": "execute_result",
          "data": {
            "text/plain": [
              "Y    359\n",
              "N     41\n",
              "Name: is_core, dtype: int64"
            ]
          },
          "metadata": {
            "tags": []
          },
          "execution_count": 9
        }
      ]
    },
    {
      "cell_type": "code",
      "metadata": {
        "colab": {
          "base_uri": "https://localhost:8080/",
          "height": 297
        },
        "id": "_dwSBBVQ7n4u",
        "outputId": "ee81b1d5-9a56-48f8-b23a-0cc30e9c2cfe"
      },
      "source": [
        "sns.scatterplot(x= \"feature_1\", y= \"feature_2\", data= df_tmp[df_tmp.cluster == 0], color= \"green\", label= \"cluster 1\")\n",
        "sns.scatterplot(x= \"feature_1\", y= \"feature_2\", data= core_point[0], color= \"pink\", label= \"Sample core point\")\n",
        "\n",
        "sns.scatterplot(x= \"feature_1\", y= \"feature_2\", data= df_tmp[df_tmp.cluster == 1], color= \"blue\", label= \"cluster 2\")\n",
        "sns.scatterplot(x= \"feature_1\", y= \"feature_2\", data= core_point[1], color= \"yellow\", label= \"sample core point\")\n",
        "\n",
        "sns.scatterplot(x= \"feature_1\", y= \"feature_2\", data= df_tmp[df_tmp.is_core == \"N\"], color= \"black\", label= \"outliar point\")\n",
        "\n",
        "sns.scatterplot(x= \"feature_1\", y= \"feature_2\", data= df_tmp[df_tmp.is_border == \"Y\"], color= \"red\", label= \"border point\")"
      ],
      "execution_count": 10,
      "outputs": [
        {
          "output_type": "execute_result",
          "data": {
            "text/plain": [
              "<matplotlib.axes._subplots.AxesSubplot at 0x7ff65e851c90>"
            ]
          },
          "metadata": {
            "tags": []
          },
          "execution_count": 10
        },
        {
          "output_type": "display_data",
          "data": {
            "image/png": "[encoded data removed]",
            "text/plain": [
              "<Figure size 432x288 with 1 Axes>"
            ]
          },
          "metadata": {
            "tags": [],
            "needs_background": "light"
          }
        }
      ]
    }
  ]
}